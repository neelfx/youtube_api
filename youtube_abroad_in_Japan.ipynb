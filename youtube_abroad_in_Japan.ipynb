{
 "cells": [
  {
   "cell_type": "code",
   "execution_count": 1,
   "metadata": {
    "ExecuteTime": {
     "end_time": "2021-03-28T21:16:54.360777Z",
     "start_time": "2021-03-28T21:16:52.647776Z"
    }
   },
   "outputs": [],
   "source": [
    "from googleapiclient.discovery import build"
   ]
  },
  {
   "cell_type": "code",
   "execution_count": 2,
   "metadata": {
    "ExecuteTime": {
     "end_time": "2021-03-28T21:17:17.060777Z",
     "start_time": "2021-03-28T21:17:15.243781Z"
    }
   },
   "outputs": [],
   "source": [
    "import numpy as np\n",
    "import pandas as pd"
   ]
  },
  {
   "cell_type": "code",
   "execution_count": 3,
   "metadata": {
    "ExecuteTime": {
     "end_time": "2021-03-28T21:17:18.485782Z",
     "start_time": "2021-03-28T21:17:18.481780Z"
    }
   },
   "outputs": [],
   "source": [
    "#api key for initial test, will be not active when committed to github\n",
    "api_key = ''"
   ]
  },
  {
   "cell_type": "code",
   "execution_count": 4,
   "metadata": {
    "ExecuteTime": {
     "end_time": "2021-03-28T21:17:20.216777Z",
     "start_time": "2021-03-28T21:17:20.170782Z"
    }
   },
   "outputs": [],
   "source": [
    "youtube = build('youtube', 'v3', developerKey=api_key)\n",
    "\n",
    "request = youtube.channels().list(part='statistics', id='UCHL9bfHTxCMi-7vfxQ-AYtg')"
   ]
  },
  {
   "cell_type": "code",
   "execution_count": 5,
   "metadata": {
    "ExecuteTime": {
     "end_time": "2021-03-28T21:17:23.345778Z",
     "start_time": "2021-03-28T21:17:21.067780Z"
    }
   },
   "outputs": [],
   "source": [
    "response= request.execute()"
   ]
  },
  {
   "cell_type": "code",
   "execution_count": 6,
   "metadata": {
    "ExecuteTime": {
     "end_time": "2021-03-28T21:17:38.086780Z",
     "start_time": "2021-03-28T21:17:38.077782Z"
    }
   },
   "outputs": [
    {
     "name": "stdout",
     "output_type": "stream",
     "text": [
      "{'kind': 'youtube#channelListResponse', 'etag': '_Tnd2jsh5UGHG_Y_JyaheNPDtrQ', 'pageInfo': {'totalResults': 1, 'resultsPerPage': 5}, 'items': [{'kind': 'youtube#channel', 'etag': 'f1QjF724gOV5rwGBeCJrApAkm7Y', 'id': 'UCHL9bfHTxCMi-7vfxQ-AYtg', 'statistics': {'viewCount': '275735742', 'subscriberCount': '2090000', 'hiddenSubscriberCount': False, 'videoCount': '208'}}]}\n"
     ]
    }
   ],
   "source": [
    "print(response)"
   ]
  },
  {
   "cell_type": "code",
   "execution_count": 8,
   "metadata": {
    "ExecuteTime": {
     "end_time": "2021-03-28T22:02:55.341145Z",
     "start_time": "2021-03-28T22:02:55.302142Z"
    }
   },
   "outputs": [
    {
     "data": {
      "text/plain": [
       "dict"
      ]
     },
     "execution_count": 8,
     "metadata": {},
     "output_type": "execute_result"
    }
   ],
   "source": [
    "type(response)"
   ]
  },
  {
   "cell_type": "code",
   "execution_count": 9,
   "metadata": {
    "ExecuteTime": {
     "end_time": "2021-03-28T22:02:56.352147Z",
     "start_time": "2021-03-28T22:02:56.338143Z"
    }
   },
   "outputs": [],
   "source": [
    "def get_channel_videos(channel_id):\n",
    "    \n",
    "    # get Uploads playlist id\n",
    "    res = youtube.channels().list(id=channel_id, \n",
    "                                  part='contentDetails').execute()\n",
    "    playlist_id = res['items'][0]['contentDetails']['relatedPlaylists']['uploads']\n",
    "    \n",
    "    videos = []\n",
    "    next_page_token = None\n",
    "    \n",
    "    while 1:\n",
    "        res = youtube.playlistItems().list(playlistId=playlist_id, \n",
    "                                           part='snippet', \n",
    "                                           maxResults=50,\n",
    "                                           pageToken=next_page_token).execute()\n",
    "        videos += res['items']\n",
    "        next_page_token = res.get('nextPageToken')\n",
    "        \n",
    "        if next_page_token is None:\n",
    "            break\n",
    "    \n",
    "    return videos"
   ]
  },
  {
   "cell_type": "code",
   "execution_count": 10,
   "metadata": {
    "ExecuteTime": {
     "end_time": "2021-03-28T22:03:02.766162Z",
     "start_time": "2021-03-28T22:02:59.999146Z"
    }
   },
   "outputs": [],
   "source": [
    "\n",
    "videos = get_channel_videos('UCHL9bfHTxCMi-7vfxQ-AYtg')"
   ]
  },
  {
   "cell_type": "code",
   "execution_count": 12,
   "metadata": {
    "ExecuteTime": {
     "end_time": "2021-03-28T22:03:17.359771Z",
     "start_time": "2021-03-28T22:03:17.352771Z"
    }
   },
   "outputs": [
    {
     "data": {
      "text/plain": [
       "208"
      ]
     },
     "execution_count": 12,
     "metadata": {},
     "output_type": "execute_result"
    }
   ],
   "source": [
    "len(videos)"
   ]
  },
  {
   "cell_type": "code",
   "execution_count": 11,
   "metadata": {
    "ExecuteTime": {
     "end_time": "2021-03-28T22:03:05.726147Z",
     "start_time": "2021-03-28T22:03:05.705146Z"
    },
    "scrolled": false
   },
   "outputs": [
    {
     "name": "stdout",
     "output_type": "stream",
     "text": [
      "I Tried Watching Japan's WORST TV Show of All Time\n",
      "What $250 Buys You at a Japanese Hot Spring Inn\n",
      "Why Kyoto's Traditional Homes Are Going EXTINCT\n",
      "What $20 Buys You at a Japanese STREET FOOD Market\n",
      "What I REALLY Think About Japanese Youtubers Reacting To My Videos\n",
      "Why This Japanese Town Eats BEARS\n",
      "Why I Avoid CHRISTMAS in Japan\n",
      "Inside Tokyo's Most EXPENSIVE Penthouse Apartment\n",
      "What ¥1,000 BUYS You in Japan's No.1 Dollar Store\n",
      "I Spent a Day in Japan's BIGGEST British Theme Park\n",
      "I Rented an ENTIRE Japanese Capsule Hotel | $500 Room Tour\n",
      "Inside a PRIVATE Japanese Hot Spring Hotel Room | 1,000 Year Old Bath\n",
      "I Tried Japan's WORST Food (So You Don't Have To)\n",
      "Inside an ABANDONED Japanese Love Hotel (4K)\n",
      "Journey Across Japan: Escape to Fuji - Official Trailer (4K)\n",
      "What a $20,000/Month Japanese Apartment is Like | Tokyo Home Tour\n",
      "How Does Living in Japan Change You?\n",
      "What Owning a Sushi Restaurant in Japan is Like\n",
      "The REASON Google Translate FAILS at Japanese\n",
      "What Driving in Japan is REALLY Like\n",
      "Why I DON'T Watch JAPANESE TV\n",
      "What NO-ONE Tells You About Japan\n",
      "When ENGLISH in Japan Goes HORRIBLY Wrong\n",
      "Inside Japan's Most Expensive Bullet Train | $750 Seat\n",
      "What I'll Never Understand About Japan\n",
      "48 Hours at Japan’s Biggest Snow Festival\n",
      "What Happened After Japan’s $200 BILLION Disaster: Stories from the Tsunami (Documentary)\n",
      "How is the Coronavirus Affecting Japan | Is it Safe?\n",
      "What Japan's Rarest Sake Tastes Like\n",
      "I Stayed the Night in a Haunted Japanese Inn\n",
      "What Teaching English in Japan was REALLY Like\n",
      "Japan's Most Dangerous Obsession Explained | Drift Racing\n",
      "25 ESSENTIAL Japanese Words for EVERYDAY Conversation\n",
      "I Spent a Week with Japan's Biggest Rock Star\n",
      "How Much Weight I Lost Travelling 2,000km Across Japan\n",
      "6 Must Try Japanese Dishes in Tokyo | Tsukiji Street Food\n",
      "Japanese Guy Broken by English Tongue Twisters\n",
      "The HORROR of Japanese Mascots | 10 Craziest Characters\n",
      "Inside Fukushima: What Happened After the Nuclear Disaster?\n",
      "I Tried Japanese Language School for a Day in Tokyo\n",
      "12 Things You Should Know Before Coming to Japan\n",
      "26 Traits Japanese Girls Want in a Guy\n",
      "What Owning a Love Hotel in Japan is Like\n",
      "Relaxing in a Japanese Hot Spring | 24 Hours in Kagoshima\n",
      "10 Things to do Around Tokyo Station | Travel Guide\n",
      "What Does Japanese Raw Horse Sashimi Taste Like?\n",
      "24 Hours in Fukuoka | Japan's Ramen Capital\n",
      "How Much Japanese Can You Learn in a Day?\n",
      "What to do in Hiroshima & Miyajima | 6 Must Try Travel Ideas\n",
      "I Made Friends with a Stranger at Japan's Oldest Hot Spring\n",
      "Japan's Most Expensive Tuna | $3.1Million Catch\n",
      "What Japan's Deadliest Dish Tastes Like | Poisonous Blowfish (Fugu)\n",
      "24 Hours in Japan's Inland Sea Paradise | Shimanami Kaido\n",
      "I Tried Being Vegan in Japan for a Day\n",
      "Why Himeji is Japan's Greatest Castle\n",
      "I Tried Kobe Beef for the First Time | A5 Japanese Wagyu\n",
      "24 Hours in Osaka | 6 Things to do in Japan's Nightlife Capital\n",
      "24 Hours in Kyoto | Japan's Best Monkey Park\n",
      "I Got Lost in Kyoto with only a Paper Map\n",
      "Why I Don't Speak Japanese in Videos\n",
      "My Weirdest Experience Travelling in Japan\n",
      "Eating BRUNCH at a Japanese Market | Kanazawa Street Food\n",
      "I Got Stuck on a Japanese Mountain\n",
      "What Does Japanese Black Ramen Taste Like?\n",
      "British Guy Attempts American Accent for a Day\n",
      "We Made a Japanese Commercial in 24 Hours\n",
      "Cycling Japan Speaking Only in Movie Quotes\n",
      "I Pimped My Bike in Retro Japan Style\n",
      "Inside a Haunted Abandoned Japanese Tunnel\n",
      "Eating a Mountain of Crispy Japanese Fried Chicken\n",
      "Japanese Sake Vending Machines Are Amazing\n",
      "Why I'm Cycling 2000km Across Japan\n",
      "Cycling 2,000KM Across Japan | Day One\n",
      "Cycling 2,000km Across Japan | The Night Before Departing (Prologue)\n",
      "When Will I Leave Japan?\n",
      "24 Hours in SENDAI | 10 Things You Need To Do\n",
      "Mount Fuji RUINED My Day\n",
      "Japanese Mountain Training | 24 Hours of Hell\n",
      "6 Surprising Life Lessons I Learned in Japan\n",
      "Japan's Biggest Gaming Obsession Explained | Pachinko\n",
      "What Have I Secretly Been Planning?\n",
      "Natsuki: The Movie (Life in Japan Documentary)\n",
      "I Tried to Eat World’s LARGEST Dumpling in Tokyo\n",
      "Day in My Life | 24 Hours in Tokyo\n",
      "How Difficult is Travelling Japan without Japanese? | Travel Tips\n",
      "Is this Japan's Most Mouthwatering Ramen?\n",
      "5 Must Try Dishes in Hokkaido | Japanese Food\n",
      "Staying at a Hidden Japanese Mountain Temple in North Japan\n",
      "48 hours in Hokkaido | Road Trip Across Japan\n",
      "What Happened In Japan After The Tsunami?\n",
      "Staying at 1,000 Year Old Japanese Hot Spring Resort\n",
      "21 Strangest Movie Translations in Japanese\n",
      "Tasting a Japanese Horse Meat Barbecue\n",
      "12 Things NOT to do in Japan\n",
      "Meeting the Coolest Man in Japan\n",
      "Day in My Life | Living in Japan\n",
      "Is Japanese Vegan Food Actually Good?\n",
      "What Happened to Natsuki: The Movie?\n",
      "5 Best Places to Take a Date in Tokyo\n",
      "5 Must Try Meat Dishes in Japan\n",
      "Japanese Nightlife Etiquette | Beginner's Travel Guide\n",
      "Why I'm Losing Faith in Youtube\n",
      "48 Hours in Sapporo | 6 Things to do in Hokkaido's Capital\n",
      "Where's the Best Place to Live in Japan? City vs. Countryside\n",
      "Being Rudely Awoken by a North Korean Missile\n",
      "What does a $3000 Japanese Hotel Room look like?\n",
      "How Expensive is it to Travel Japan? | Budget Travel Tips\n",
      "WHY I MOVED TO JAPAN | My Biggest Life Decision\n",
      "6 Must Try Japanese Dishes in Aomori\n",
      "5 Things to do in Akihabara | Tokyo\n",
      "Japanese Thoughts on European Sweets | Painful Unboxing\n",
      "Japanese Guy Prepares to Visit Europe\n",
      "21 Things to do When You Arrive in Japan\n",
      "Why I've Not Made Any Videos Recently\n",
      "Why Japan is the Snow Capital of the World\n",
      "Inside the Japanese Hotel Staffed by Robots\n",
      "Staying on Japan's Most Mysterious Island | Sado\n",
      "Japanese Guy Has FIRST EVER English Lesson\n",
      "4 Ways Living in Japan Changed Me\n",
      "Staying at a Tokyo Capsule Hotel\n",
      "Japanese Idol Girls Ruined by Marmite & Liqourice\n",
      "Japan's Biggest Morning Market\n",
      "Japanese Sushi Kit Kats Taste Test\n",
      "British Guy in Japan Reads Hate Mail\n",
      "Meeting a Japanese Mummy | Fukushima\n",
      "6 Must Try Japanese Foods | Iwate\n",
      "2016 Wasn't a Total Disaster\n",
      "The Village in Japan Where they Believe Jesus Died\n",
      "Japan's Most Expensive Beef | Wagyu\n",
      "Monster Ramen Challenge | Akihabara, Tokyo\n",
      "Japan's Greatest Store | Don Quijote\n",
      "6 Must Try Japanese Dishes | Miyagi\n",
      "DON'T GET FAT IN JAPAN\n",
      "Japan's Most Stunning Onsen | Hot Spring\n",
      "HAVING AN IDENTITY CRISIS at Japan's Deepest Lake\n",
      "North Japan's Most Scenic Spot | Geibikei Gorge\n",
      "Okinawa | Japan's Ultimate Getaway | What to Do\n",
      "The Future of Abroad in Japan\n",
      "Travelling Japan in Style | 500km in 3 Days\n",
      "My Favourite Place in Japan\n",
      "INSIDE A JAPANESE LOVE HOTEL\n",
      "Crazy ENGRISH | Japanese-English Marketing\n",
      "Reading Your Ridiculous Hate-Filled Comments\n",
      "Japanese Thoughts on Foreign Chocolate\n",
      "Experiencing Japan's Biggest Annual Event | Cherry Blossom Season\n",
      "Exploring My Tiny Japanese Apartment\n",
      "12 Tips for Learning Japanese\n",
      "Wandering through the Aokigahara Forest | Japan\n",
      "Receiving the Ultimate Hate Comment | Nightmare\n",
      "Skiing at Japan's Funnest Resort\n",
      "How I Blew Fame & Priceless Publicity | Huge Fail\n",
      "Sake Kit Kat Review | Japan Exclusive\n",
      "How to Suck at Pottery\n",
      "Staying at a Traditional Japanese Inn & Hot Spring | Ryokan\n",
      "Tokyo's Freshest Sushi | Tsukiji Fishmarket\n",
      "McDonald's Chocolate Fries Review | Japan Exclusive\n",
      "The BEST Japanese Hotel Room Tour You'll Ever See\n",
      "TEACHING SWEAR WORDS IS IMPORTANT\n",
      "How to Date Japanese Girls | Secrets Revealed\n",
      "Everyday Life in Japan: 10 Essential Questions Answered\n",
      "5 Must See Japanese Animal Hotspots\n",
      "Why I'm a Wannabe YouTube Star\n",
      "4 Reasons Japanese-English Marketing is Amazing | Engrish\n",
      "4 Unusual Must Try Japanese Foods\n",
      "15 TIPS FOR TRAVEL IN JAPAN\n",
      "Answering 50 Questions in 3 Minutes | About Me\n",
      "Japanese Thoughts on British Street Toilets 英国の衝撃的公衆便所\n",
      "Japan's Rabbit Island: Cute Rabbits, Dark History\n",
      "Is it Difficult to Make Friends in Japan?\n",
      "Teaching in Japan: 5 Useful Tips for Beginners\n",
      "Life in Japan: 6 Months in 3 Minutes\n",
      "Japanese People Attempt to Eat Marmite\n",
      "British Guy Reads Hate Mail\n",
      "How to Lose Weight in Japan - #Week 10 *Finale*\n",
      "Speaking Japanese Fluently in 6 Months | 6 Steps to Success\n",
      "TOKYO'S CRAZIEST BAR | Kagaya Bar\n",
      "Living and Working in Japan Q&A\n",
      "Japanese thoughts on British Culture\n",
      "Japan's Poorest Girl Group\n",
      "How to Lose Weight in Japan - #Week 2\n",
      "You Won't Believe WHAT HAPPENED Next\n",
      "ALS Ice Bucket Challenge (ft. Natsuki)\n",
      "Tokyo's Tastiest Souvenir (東京バナナ）\n",
      "How to Lose Weight in Japan - #Week 1\n",
      "Living in Japan and Losing Weight\n",
      "How to Learn Japanese for Free | 5 Tools & Resources\n",
      "LOVE Hotels in Japan: 5 You Should Know\n",
      "LEARNING JAPANESE: 9 Tips for Success\n",
      "TEACHING SWEAR WORDS TO JAPANESE PEOPLE\n",
      "Wanko Soba: Japan's Greatest Food Challenge (わんこそば)\n",
      "Japan's First Drink on the Moon\n",
      "The Worst Thing about Asia\n",
      "How to Move to and Work in Japan\n",
      "Visiting Japan: 5 Reasons Why It'll Be Awesome\n",
      "Japanese Thoughts on British Snacks\n",
      "How to Memorise Japanese Effortlessly | Anki\n",
      "KFC Christmas Japan: A Delicious Alternate Reality\n",
      "Japanese: 3 Essential Phrases You Should Know!\n",
      "The Horrors of Japanese - English Textbooks\n",
      "Climbing Mount Fuji | 8 Hours of Hell\n",
      "McDonald's Japan's: Extreme Burgers\n",
      "How to Learn Japanese Kanji the Fun way (Heisig)\n",
      "How Dangerous is Japan?\n",
      "Japanese Table Smashing Arcade Game | Cho Chabudai Gaeshi\n",
      "Robot Restaurant, Shinjuku, Tokyo\n",
      "Driving in Japan: Beginners Guide\n",
      "Living in Japan: Culture Shock!\n",
      "My Japanese Apartment and Arriving in Japan\n"
     ]
    }
   ],
   "source": [
    "for video in videos:\n",
    "    print(video['snippet']['title'])"
   ]
  },
  {
   "cell_type": "code",
   "execution_count": null,
   "metadata": {},
   "outputs": [],
   "source": []
  }
 ],
 "metadata": {
  "kernelspec": {
   "display_name": "Python 3",
   "language": "python",
   "name": "python3"
  },
  "language_info": {
   "codemirror_mode": {
    "name": "ipython",
    "version": 3
   },
   "file_extension": ".py",
   "mimetype": "text/x-python",
   "name": "python",
   "nbconvert_exporter": "python",
   "pygments_lexer": "ipython3",
   "version": "3.6.8"
  },
  "toc": {
   "base_numbering": 1,
   "nav_menu": {},
   "number_sections": true,
   "sideBar": true,
   "skip_h1_title": false,
   "title_cell": "Table of Contents",
   "title_sidebar": "Contents",
   "toc_cell": false,
   "toc_position": {},
   "toc_section_display": true,
   "toc_window_display": false
  }
 },
 "nbformat": 4,
 "nbformat_minor": 2
}
