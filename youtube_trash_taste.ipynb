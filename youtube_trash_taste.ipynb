{
 "cells": [
  {
   "cell_type": "code",
   "execution_count": 1,
   "metadata": {
    "ExecuteTime": {
     "end_time": "2021-03-28T22:22:29.399732Z",
     "start_time": "2021-03-28T22:22:27.950735Z"
    }
   },
   "outputs": [],
   "source": [
    "from googleapiclient.discovery import build"
   ]
  },
  {
   "cell_type": "code",
   "execution_count": 2,
   "metadata": {
    "ExecuteTime": {
     "end_time": "2021-03-28T22:22:29.413741Z",
     "start_time": "2021-03-28T22:22:29.405736Z"
    }
   },
   "outputs": [],
   "source": [
    "#api key for initial test, will be not active when committed to github\n",
    "api_key = ''"
   ]
  },
  {
   "cell_type": "code",
   "execution_count": 3,
   "metadata": {
    "ExecuteTime": {
     "end_time": "2021-03-28T22:22:29.495735Z",
     "start_time": "2021-03-28T22:22:29.418738Z"
    }
   },
   "outputs": [],
   "source": [
    "youtube = build('youtube', 'v3', developerKey=api_key)\n",
    "\n",
    "request = youtube.channels().list(part='statistics', id='UCcmxOGYGF51T1XsqQLewGtQ')"
   ]
  },
  {
   "cell_type": "code",
   "execution_count": 4,
   "metadata": {
    "ExecuteTime": {
     "end_time": "2021-03-28T22:22:30.499735Z",
     "start_time": "2021-03-28T22:22:29.501745Z"
    }
   },
   "outputs": [],
   "source": [
    "response= request.execute()"
   ]
  },
  {
   "cell_type": "code",
   "execution_count": 5,
   "metadata": {
    "ExecuteTime": {
     "end_time": "2021-03-28T22:22:30.511736Z",
     "start_time": "2021-03-28T22:22:30.503735Z"
    }
   },
   "outputs": [
    {
     "name": "stdout",
     "output_type": "stream",
     "text": [
      "{'kind': 'youtube#channelListResponse', 'etag': 'YKFesmc3Z_6kgDSFtEAuSh_0rO8', 'pageInfo': {'totalResults': 1, 'resultsPerPage': 5}, 'items': [{'kind': 'youtube#channel', 'etag': '-6OEkDBDstP8hpEcUsCpD7DV3ZY', 'id': 'UCcmxOGYGF51T1XsqQLewGtQ', 'statistics': {'viewCount': '63203844', 'subscriberCount': '870000', 'hiddenSubscriberCount': False, 'videoCount': '44'}}]}\n"
     ]
    }
   ],
   "source": [
    "print(response)"
   ]
  },
  {
   "cell_type": "code",
   "execution_count": 6,
   "metadata": {
    "ExecuteTime": {
     "end_time": "2021-03-28T22:22:30.533738Z",
     "start_time": "2021-03-28T22:22:30.516737Z"
    }
   },
   "outputs": [],
   "source": [
    "def get_channel_videos(channel_id):\n",
    "    \n",
    "    # get Uploads playlist id\n",
    "    res = youtube.channels().list(id=channel_id, \n",
    "                                  part='contentDetails').execute()\n",
    "    playlist_id = res['items'][0]['contentDetails']['relatedPlaylists']['uploads']\n",
    "    \n",
    "    videos = []\n",
    "    next_page_token = None\n",
    "    \n",
    "    while 1:\n",
    "        res = youtube.playlistItems().list(playlistId=playlist_id, \n",
    "                                           part='snippet', \n",
    "                                           maxResults=50,\n",
    "                                           pageToken=next_page_token).execute()\n",
    "        videos += res['items']\n",
    "        next_page_token = res.get('nextPageToken')\n",
    "        \n",
    "        if next_page_token is None:\n",
    "            break\n",
    "    \n",
    "    return videos"
   ]
  },
  {
   "cell_type": "code",
   "execution_count": 7,
   "metadata": {
    "ExecuteTime": {
     "end_time": "2021-03-28T22:22:31.045734Z",
     "start_time": "2021-03-28T22:22:30.900736Z"
    }
   },
   "outputs": [],
   "source": [
    "videos = get_channel_videos('UCcmxOGYGF51T1XsqQLewGtQ')"
   ]
  },
  {
   "cell_type": "code",
   "execution_count": 8,
   "metadata": {
    "ExecuteTime": {
     "end_time": "2021-03-28T22:22:31.388738Z",
     "start_time": "2021-03-28T22:22:31.380735Z"
    }
   },
   "outputs": [
    {
     "name": "stdout",
     "output_type": "stream",
     "text": [
      "The YouTuber Life is CURSED | Trash Taste #41\n",
      "The WORST Japanese Convenience Store Food | Trash Taste #40\n",
      "THINGS THAT TERRIFY US | Trash Taste #39\n",
      "Talking to a REAL Japanese Anime Singer (ft. Nano) | Trash Taste #38\n",
      "We Tried Cycling Across Japan and FAILED | Trash Taste Special\n",
      "How to NOT Flirt with a YouTuber | Trash Taste #37\n",
      "Talking to a REAL JoJo Animator (ft. Ken Arto) | Trash Taste #36\n",
      "We Have Trash Taste in Manga | Trash Taste #35\n",
      "Roasting Our Horrible Anime Tastes | Trash Taste #34\n",
      "We're Too Addicted to Gacha Games | Trash Taste #33\n",
      "We Don't Know How to Poop | Trash Taste #32\n",
      "Japan Is A Real Life Gacha Game | Trash Taste #31\n",
      "A Very Drunk Start to the New Year (ft. Abroad in Japan) | Trash Taste #30\n",
      "Christmas Horror Stories | Trash Taste #29\n",
      "Are Online Friends REAL Friends? | Trash Taste #28\n",
      "The #1 Drifting YouTuber in Japan (ft. Noriyaro) | Trash Taste #27\n",
      "Our Trash Taste in YouTubers | Trash Taste #26\n",
      "The ℌệ𝔫𝔱ằ𝔦 Episode | Trash Taste #25\n",
      "We're Too Addicted To The Internet | Trash Taste #24\n",
      "We Met a REAL Virtual YouTuber (ft. Mori Calliope) | Trash Taste #23\n",
      "Anime Convention Horror Stories | Trash Taste #22\n",
      "We Tried Real Tokyo Drifting and FAILED | Trash Taste Special\n",
      "Roasting our WORST Takes on Anime | Trash Taste #21\n",
      "Exposing Our Degenerate Side (ft. sydsnap) | Trash Taste #20\n",
      "We Need a Break From YouTube | Trash Taste #19\n",
      "We've Fallen Down the Vtuber Rabbit Hole | Trash Taste #18\n",
      "The Japanese Food You've Never Tried | Trash Taste #17\n",
      "The WORST Fandoms in Anime | Trash Taste #16\n",
      "The REAL Japanese Nightlife Experience | Trash Taste #15\n",
      "The Most BORING Anime | Trash Taste #14\n",
      "Uncovering Secrets Behind Anime Piracy | Trash Taste #13\n",
      "The Chess Tournament Arc | Trash Taste Special\n",
      "College Horror Stories | Trash Taste #12\n",
      "Sitting Down with an Ex-Japanese 𝒫ó𝓇𝓃𝓈𝓉à𝓇 (ft. Shibuya Kaho) | Trash Taste #11\n",
      "Our Dark Past with Anime YouTube | Trash Taste #10\n",
      "Japan's Earthquakes Are Terrifying | Trash Taste #9\n",
      "We Don't Understand Anime Games | Trash Taste #8\n",
      "The Internet Kinda Sucks Right Now | Trash Taste #7\n",
      "Don't Watch Anime to Learn Japanese | Trash Taste #6\n",
      "Don't Be a YouTuber in Japan (ft. Abroad in Japan) | Trash Taste #5\n",
      "How to NOT Buy Anime Figures | Trash Taste #4\n",
      "The Anime That Shaped Our Childhoods | Trash Taste #3\n",
      "The Struggles of Life in Japan | Trash Taste #2\n",
      "The Worst Anime Podcast Has Arrived | Trash Taste #1\n"
     ]
    }
   ],
   "source": [
    "for video in videos:\n",
    "    print(video['snippet']['title'])"
   ]
  },
  {
   "cell_type": "code",
   "execution_count": null,
   "metadata": {},
   "outputs": [],
   "source": []
  }
 ],
 "metadata": {
  "kernelspec": {
   "display_name": "Python 3",
   "language": "python",
   "name": "python3"
  },
  "language_info": {
   "codemirror_mode": {
    "name": "ipython",
    "version": 3
   },
   "file_extension": ".py",
   "mimetype": "text/x-python",
   "name": "python",
   "nbconvert_exporter": "python",
   "pygments_lexer": "ipython3",
   "version": "3.6.8"
  },
  "toc": {
   "base_numbering": 1,
   "nav_menu": {},
   "number_sections": true,
   "sideBar": true,
   "skip_h1_title": false,
   "title_cell": "Table of Contents",
   "title_sidebar": "Contents",
   "toc_cell": false,
   "toc_position": {},
   "toc_section_display": true,
   "toc_window_display": false
  }
 },
 "nbformat": 4,
 "nbformat_minor": 2
}
