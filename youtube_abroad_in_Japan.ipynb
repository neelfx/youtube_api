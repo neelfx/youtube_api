{
 "cells": [
  {
   "cell_type": "code",
   "execution_count": 1,
   "metadata": {
    "ExecuteTime": {
     "end_time": "2021-03-07T21:37:17.548933Z",
     "start_time": "2021-03-07T21:37:16.327047Z"
    }
   },
   "outputs": [],
   "source": [
    "from googleapiclient.discovery import build"
   ]
  },
  {
   "cell_type": "code",
   "execution_count": 23,
   "metadata": {
    "ExecuteTime": {
     "end_time": "2021-03-07T21:52:06.633142Z",
     "start_time": "2021-03-07T21:52:06.613135Z"
    }
   },
   "outputs": [],
   "source": [
    "#api key for initial test, will be not active when committed to github\n",
    "api_key = ''"
   ]
  },
  {
   "cell_type": "code",
   "execution_count": 20,
   "metadata": {
    "ExecuteTime": {
     "end_time": "2021-03-07T21:49:28.125205Z",
     "start_time": "2021-03-07T21:49:28.075232Z"
    }
   },
   "outputs": [],
   "source": [
    "youtube = build('youtube', 'v3', developerKey=api_key)\n",
    "\n",
    "request = youtube.channels().list(part='statistics', id='UCHL9bfHTxCMi-7vfxQ-AYtg')"
   ]
  },
  {
   "cell_type": "code",
   "execution_count": 21,
   "metadata": {
    "ExecuteTime": {
     "end_time": "2021-03-07T21:49:29.144051Z",
     "start_time": "2021-03-07T21:49:28.878520Z"
    }
   },
   "outputs": [],
   "source": [
    "response= request.execute()"
   ]
  },
  {
   "cell_type": "code",
   "execution_count": 22,
   "metadata": {
    "ExecuteTime": {
     "end_time": "2021-03-07T21:49:29.239626Z",
     "start_time": "2021-03-07T21:49:29.234620Z"
    }
   },
   "outputs": [
    {
     "name": "stdout",
     "output_type": "stream",
     "text": [
      "{'kind': 'youtube#channelListResponse', 'etag': 'Ksg7e-hOmhZRMd55XliC1KtqxZU', 'pageInfo': {'totalResults': 1, 'resultsPerPage': 5}, 'items': [{'kind': 'youtube#channel', 'etag': '5HXBhXafvGblxuAKHuDok09Q0-A', 'id': 'UCHL9bfHTxCMi-7vfxQ-AYtg', 'statistics': {'viewCount': '271683833', 'subscriberCount': '2070000', 'hiddenSubscriberCount': False, 'videoCount': '207'}}]}\n"
     ]
    }
   ],
   "source": [
    "print(response)"
   ]
  },
  {
   "cell_type": "code",
   "execution_count": null,
   "metadata": {},
   "outputs": [],
   "source": []
  }
 ],
 "metadata": {
  "kernelspec": {
   "display_name": "Python 3",
   "language": "python",
   "name": "python3"
  },
  "language_info": {
   "codemirror_mode": {
    "name": "ipython",
    "version": 3
   },
   "file_extension": ".py",
   "mimetype": "text/x-python",
   "name": "python",
   "nbconvert_exporter": "python",
   "pygments_lexer": "ipython3",
   "version": "3.6.8"
  },
  "toc": {
   "base_numbering": 1,
   "nav_menu": {},
   "number_sections": true,
   "sideBar": true,
   "skip_h1_title": false,
   "title_cell": "Table of Contents",
   "title_sidebar": "Contents",
   "toc_cell": false,
   "toc_position": {},
   "toc_section_display": true,
   "toc_window_display": false
  }
 },
 "nbformat": 4,
 "nbformat_minor": 2
}
