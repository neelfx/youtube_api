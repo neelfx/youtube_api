{
 "cells": [
  {
   "cell_type": "code",
   "execution_count": 1,
   "metadata": {
    "ExecuteTime": {
     "end_time": "2021-03-28T22:22:06.493731Z",
     "start_time": "2021-03-28T22:22:04.928735Z"
    }
   },
   "outputs": [],
   "source": [
    "from googleapiclient.discovery import build"
   ]
  },
  {
   "cell_type": "code",
   "execution_count": 2,
   "metadata": {
    "ExecuteTime": {
     "end_time": "2021-03-28T22:22:06.506743Z",
     "start_time": "2021-03-28T22:22:06.499736Z"
    }
   },
   "outputs": [],
   "source": [
    "#api key for initial test, will be not active when committed to github\n",
    "api_key = ''"
   ]
  },
  {
   "cell_type": "code",
   "execution_count": 3,
   "metadata": {
    "ExecuteTime": {
     "end_time": "2021-03-28T22:22:06.604740Z",
     "start_time": "2021-03-28T22:22:06.512737Z"
    }
   },
   "outputs": [],
   "source": [
    "youtube = build('youtube', 'v3', developerKey=api_key)\n",
    "\n",
    "request = youtube.channels().list(part='statistics', id='UC1TmvgkTb_5jzKcvx6Pt0Dw')"
   ]
  },
  {
   "cell_type": "code",
   "execution_count": 4,
   "metadata": {
    "ExecuteTime": {
     "end_time": "2021-03-28T22:22:07.494734Z",
     "start_time": "2021-03-28T22:22:06.610735Z"
    }
   },
   "outputs": [],
   "source": [
    "response= request.execute()"
   ]
  },
  {
   "cell_type": "code",
   "execution_count": 5,
   "metadata": {
    "ExecuteTime": {
     "end_time": "2021-03-28T22:22:07.507736Z",
     "start_time": "2021-03-28T22:22:07.498735Z"
    }
   },
   "outputs": [
    {
     "name": "stdout",
     "output_type": "stream",
     "text": [
      "{'kind': 'youtube#channelListResponse', 'etag': 'QlYZ5Z7zabUBDBK6XE8Lo0ddkgk', 'pageInfo': {'totalResults': 1, 'resultsPerPage': 5}, 'items': [{'kind': 'youtube#channel', 'etag': 'kzhZmBz79Dj3dxOBryI3Tn2DKwI', 'id': 'UC1TmvgkTb_5jzKcvx6Pt0Dw', 'statistics': {'viewCount': '20617213', 'subscriberCount': '174000', 'hiddenSubscriberCount': False, 'videoCount': '204'}}]}\n"
     ]
    }
   ],
   "source": [
    "print(response)"
   ]
  },
  {
   "cell_type": "code",
   "execution_count": 6,
   "metadata": {
    "ExecuteTime": {
     "end_time": "2021-03-28T22:22:07.554734Z",
     "start_time": "2021-03-28T22:22:07.512738Z"
    }
   },
   "outputs": [],
   "source": [
    "def get_channel_videos(channel_id):\n",
    "    \n",
    "    # get Uploads playlist id\n",
    "    res = youtube.channels().list(id=channel_id, \n",
    "                                  part='contentDetails').execute()\n",
    "    playlist_id = res['items'][0]['contentDetails']['relatedPlaylists']['uploads']\n",
    "    \n",
    "    videos = []\n",
    "    next_page_token = None\n",
    "    \n",
    "    while 1:\n",
    "        res = youtube.playlistItems().list(playlistId=playlist_id, \n",
    "                                           part='snippet', \n",
    "                                           maxResults=50,\n",
    "                                           pageToken=next_page_token).execute()\n",
    "        videos += res['items']\n",
    "        next_page_token = res.get('nextPageToken')\n",
    "        \n",
    "        if next_page_token is None:\n",
    "            break\n",
    "    \n",
    "    return videos"
   ]
  },
  {
   "cell_type": "code",
   "execution_count": 7,
   "metadata": {
    "ExecuteTime": {
     "end_time": "2021-03-28T22:22:08.045737Z",
     "start_time": "2021-03-28T22:22:07.564734Z"
    }
   },
   "outputs": [],
   "source": [
    "\n",
    "videos = get_channel_videos('UC1TmvgkTb_5jzKcvx6Pt0Dw')"
   ]
  },
  {
   "cell_type": "code",
   "execution_count": 8,
   "metadata": {
    "ExecuteTime": {
     "end_time": "2021-03-28T22:22:08.068738Z",
     "start_time": "2021-03-28T22:22:08.049735Z"
    }
   },
   "outputs": [
    {
     "name": "stdout",
     "output_type": "stream",
     "text": [
      "Introducing Our TOP Spots In Northern Japan, Tohoku [Ft. Abroad In Japan, Natsuki and Sharmeleon]\n",
      "PART 2 - Differences In Pronunciation - English / Japanese / Malay / German 🇦🇺 🇯🇵 🇲🇾 🇩🇪\n",
      "Day In The Life Of Akidearest\n",
      "$100 MUJI Beauty & Makeup Haul\n",
      "What's Inside A YouTubers Bag? JAPAN Edition 🎒🇯🇵\n",
      "Valentine's Day with Abroad In Japan ❤️\n",
      "Girls Day At A Japanese Love Hotel ❤️ 🏩\n",
      "Differences In Pronunciation - English / Japanese / Malay / German 🇦🇺 🇯🇵 🇲🇾 🇩🇪\n",
      "We Cooked ANIME Food In Real Life - BREAKFAST Edition 🍳 🥞 🍚\n",
      "Japanese Lucky Bags 2021 + GIVEAWAY!!  || Adidas, McDonald's, Don Quijote 🛍\n",
      "Stylish Tokyo Share House Tour - TC HOMES [Season 2, Ep 1]\n",
      "This Is Our Traditional Japanese Christmas Dinner - KFC\n",
      "Gingerbread House Challenge!\n",
      "We Spent $100 On Our Christmas Shopping - LOFT + VILLAGE VANGUARD\n",
      "We Tried Drawing Japanese Things - Pictionary Challenge\n",
      "We Made DIY Face Masks\n",
      "Anime VS Real Life Locations In Japan Quiz\n",
      "Which Is Better? - Yakiniku VS Shabu Shabu with Abroad In Japan\n",
      "We Made Cheap DIY Halloween Costumes For Under $10 - Pokemon, Ghibli, Sanrio + Mario Cosplay\n",
      "We Ranked Our Top 11 Places To Visit in Japan\n",
      "Are These CRAZY Japanese Laws True or False? PART 2\n",
      "Which Is Better - Osaka VS Kyoto with Sharla and akidearest\n",
      "Foreigners Living in Japan Rate Japanese Drinks from 1-10\n",
      "Cycling Outdoors In Tokyo And Exploring Nature\n",
      "Japanese 7/11 Lunch Swap - with Abroad in Japan\n",
      "Uncovering One of Tokyo’s Anime Towns - Be a Voice Actor with akidearest\n",
      "Trying Japanese SUMMER Snacks 2020 (IN A WEIRD WAY PT. 3)\n",
      "How Much Kansai Dialect Do We Know? We Test Our Japanese Language Skills!\n",
      "Hidden Gems in Japan's BIGGEST Onsen Town (Interactive)\n",
      "WE WILL MISS YOU! [+ Can We Finish ALL 300 Disney Cookies?]\n",
      "We Are Tokyo Creative | 2020 Showreel\n",
      "Turns Out the Tokyo Olympics Was Not Cancelled! (SEASON FINALE)\n",
      "Making Our Own Tokyo Olympics 2020 At Home (PART.4) [ft. Abroad in Japan, Sharmeleon, Akidearest +]\n",
      "The Worst Attempted Tokyo Olympics Of All Time...(PART 3)\n",
      "Chris Broad brings us THE BEST Stay Home Olympic Games (PART.2)\n",
      "Live Online Cooking Experience: Udon wanna miss it!\n",
      "2020 Quarantine Olympics In Tokyo Japan [ft. Abroad In Japan, Sharmeleon, Akidearest and MORE!]\n",
      "We Have Some News to Share - Come Join Us On LIVESTREAM\n",
      "We Tried Recreating THIS Iconic Japanese Painting… (Bob Ross Style)\n",
      "A List of Japanese Shows and Anime You Shouldn't Miss Out On! (What We're Currently Watching)\n",
      "Here's What $650 Will Get You in TOKYO! [TC Homes Ep: 11]\n",
      "Foreigners Living in Japan Rate Japanese Foods from 1-10\n",
      "We Learnt Some Japanese TONGUE TWISTERS... (We were destroyed.)\n",
      "We Tried Making Fake Japanese Food!! (Food Sample Making Kits)\n",
      "What Kind of Emergency Food Is Available in Japan?\n",
      "The Tokyo Creative Videos You've Been Missing...\n",
      "How are Japanese People Working Remotely Now?\n",
      "Foreigners Try Cooking Staple Japanese Home Recipes! (FOR THE FIRST TIME)\n",
      "Japanese vs. Australian vs. Singaporean ACCENTS [ft. Miracle Vell Magic]\n",
      "Rating 10 POPULAR Cup Noodles from Japan!\n",
      "Japanese Performer Reveals the TRUTH about Working in Japan [ft. Miracle Vell Magic]\n",
      "Tasting JAPAN EXCLUSIVE Sakura Drinks at the World's Biggest Starbucks!\n",
      "GIRLS TRY COSPLAY FOR THE FIRST TIME | Niigata City\n",
      "We Learnt How to Make Japanese Food from OITA!!\n",
      "What Do Our Subscribers Think of These YOUTUBERS? | TC Offline Event\n",
      "SPENDING $300 ON A JAPANESE ONLINE CLAW MACHINE  + GIVEAWAY!! [ft. Akidearest & The Anime Man]\n",
      "Is It Impossible to Win In a Japanese Arcade?? | Game Center\n",
      "This is what a Cosy Japanese Apartment Looks Like! (ft. BunnyTokyo)  [TC Homes Ep:10]\n",
      "WHAT TO SEE IN JAPAN | World Heritage Nature Sites (Kumano)\n",
      "Taste Testing 20 of the UNHEALTHIEST Japanese Sandwiches...(Convenient Lunch Option)\n",
      "How Many Of These Japanese Things Can You List?? [ft. Themepark Girl]\n",
      "How to Make Japanese CHARACTER LUNCHBOXES! | Step by Step (5 Dishes)\n",
      "We Tried Living On A Farm In The Japanese Countryside | Kumano\n",
      "JPOP Girls Group Answers Questions That Are HARD TO SWALLOW\n",
      "Step Into Our Cosy Tokyo Creative Office [TC Homes Ep. 9]\n",
      "WE TRIED 10 TYPES OF BUBBLE TEA FROM JAPANESE CONVENIENCE STORES!\n",
      "Jakenbake Gives us A Tour of His Modern Japan Home [TC Homes Ep. 8]\n",
      "Where to buy EXCLUSIVE Osaka Souvenirs!!\n",
      "Here's Something NEW to do In KOBE!\n",
      "Trying As Many JAPANESE KIT KATS As We Can...\n",
      "Ranking the MOST POPULAR Foods in OSAKA | Food Ranks\n",
      "Taste Testing Japanese AUTUMN Snacks! (IN A WEIRD WAY...)\n",
      "A Tour of The Anime Man and Akidearest's Japan Apartment [TC Homes EP: 7]\n",
      "Do you Know These Famous Japanese Anime Characters and Icons? [Part 2]\n",
      "Everything You Need to Know About Japanese Firework Festivals\n",
      "Uncover These Ramen & Coffee Spots in Central Tokyo | OGIKUBO\n",
      "Where Can You Thrift Shop in Tokyo? | Koenji's VINTAGE SHOPPING STREET\n",
      "Koenji's VINTAGE SHOPPING STREET + Vegetarian Cafes\n",
      "The BEST of Oita, Japan | Where We Went\n",
      "Experience A Summer Festival In Japan! | ASAGAYA TANABATA MATSURI\n",
      "Can You Guess These ANIME OPENINGS? [ft. The Anime Man & Akidearest]\n",
      "Places to really kick off your Oita experience\n",
      "Tokidoki Traveller Answers Questions That Are HARD TO SWALLOW\n",
      "Chill Night Out Spots Outside of Tokyo [ft. Tokyo Lens & Lesweetpea]\n",
      "Escaping the City to a BEAUTIFUL Seaside Town in Shizuoka!\n",
      "Scary Monster Cafe Right Outside of Tokyo! (ft. Sharmander)\n",
      "Playing Charades with A Crazy Japanese Man (ft. JakenbakeLIVE and Natsuki from Abroad In Japan)\n",
      "Tour Of A Tokyo Designer Sharehouse!! [TC Homes Ep. 6]\n",
      "Ranking The MUST-TRY Foods in Tohoku Region | Food Ranks\n",
      "Playing The Weirdest JAPANESE PARTY GAMES!\n",
      "Girls Chill Out Day in Kyoto [ft. Sharmander & Kim Dao]\n",
      "Exploring A Traditional Onsen Town in Tohoku\n",
      "Natsuki's Guide to NOT Being Ugly [ft. JakenbakeLIVE ]\n",
      "How To Travel On a Budget In Kyoto\n",
      "Best Things To Do In Sendai, Japan\n",
      "Best Sights To See in Nikko, Japan\n",
      "Japanese and Canadian Swap MAPLE SNACKS! [ft. NerdECrafter]\n",
      "The Coolest Apartment in Central Tokyo! [TC Homes Ep. 5]\n",
      "Do Japanese People Know More About Japan Than Foreigners? | Vegetable Juice Kit Kat?\n",
      "What Are Japanese Onomatopoeia??\n",
      "Japanese Traditional ICE COLD Waterfall Training ｜You Won't BELIEVE THIS!\n",
      "Abroad in Japan OUTTAKES and BLOOPERS\n",
      "Driving Across Japan In Supercars | Tokyo Drift In Real Life\n",
      "Exploring A Deserted Paradise in Southern Japan\n",
      "Tokidoki Traveller's Apartment Tour Outside of Tokyo [TC Homes Ep. 4]\n",
      "Life at Tokyo Creative: Spring Retreat out of Tokyo\n",
      "The Most Random Day Trip To Ibaraki, Japan [Ft. The Anime Man & OkanoTV]\n",
      "Duty-Free Shopping At Akihabara in Japan! [Ft. Sharmander, Natsuki from \"Abroad In Japan\" and more!]\n",
      "Who Knows More About Japan? [Ft. Abroad in Japan, Sharmander & Dogen]\n",
      "Where is the BEST Place to Shop For Souvenirs in Tokyo Japan?\n",
      "Food Tour In The Traditional Area Near Tokyo\n",
      "Girls Day Out In Tokyo Japan [Ft. Sharmander & Kim Dao]\n",
      "Shiori's Apartment Tour in a Trendy Tokyo Area [TC Homes Ep. 3]\n",
      "The Perfect Day Trip From Tokyo: Exploring Hakone [Ft. akidearest & The Anime Man]\n",
      "Anime Voice Acting in Niigata, Japan [Ft. The Anime Man & akidearest]\n",
      "Tokyo Creative Learn Launch [Ft. akidearest & The Anime Man]\n",
      "Cosplay in Niigata ｜Otaku Themed Day in Japan [Ft. akidearest & The Anime Man]\n",
      "Are These CRAZY Laws In Japan True or False?｜[Ft. Abroad in Japan & Sharmander]\n",
      "Our CEO's Apartment Tour in Western Tokyo  [TC Homes Ep. 2]\n",
      "Abroad in Japan's \"Journey Across Japan\" After Party in Tokyo\n",
      "Abroad in Japan's Top 10 Highlights on the Journey Across Japan\n",
      "Tokyo Creative 2018 Showreel [Ft. Abroad in Japan, akidearest, Sharmander, and many more...]\n",
      "Must Eat Foods in Fukuoka, Japan\n",
      "Life at Tokyo Creative: We play Basketball on Fridays\n",
      "Budget Shopping At A Traditional Town Right Outside Tokyo\n",
      "What Does The Tokyo Creative Office Look Like? [TC Homes Ep. 1]\n",
      "Eating EVERYTHING On The McDonald's Japan Menu\n",
      "24 Hours in Fukuoka, Japan For The First Time\n",
      "Learning How To Pick Up Japanese MEN With Natsuki from Abroad in Japan\n",
      "How To Learn Basic Japanese Kanji The Fun Way\n",
      "Hot Food Vending Machines at Tokyo's Haneda Airport  [Ft. Natsuki from Abroad in Japan]\n",
      "What’s a $3 Private Japanese Onsen Hot Spring Look Like?\n",
      "Abroad in Japan's Journey Across Japan [Leg 3 & 4 - Behind the Scenes]\n",
      "How Do Japanese People Celebrate New Years?\n",
      "Visiting One Of The Worlds Largest Active Volcanoes In Kyushu [Journey Across Japan Spinoff]\n",
      "$10 Budget Shopping At Harajuku In Tokyo, Japan\n",
      "24 Hours in Kumamoto, Japan [Journey Across Japan Spinoff]\n",
      "Natsuki From \"Abroad in Japan\" Bakes Us A Christmas Cake In A Rice Cooker\n",
      "Christmas Shopping Battle [Ft. Abroad in Japan, The Anime Man, Sharmander and more new guests...]\n",
      "Taste Testing Waffle Natto (Fermented Soybeans)?... and many other types of natto...\n",
      "Sharla Talks About Her Top 5 Moments On Abroad in Japan's \"Journey Across Japan\"\n",
      "Top 5 Anime For Beginners You Didn't Know [Ft. Akidearest & The Anime Man]\n",
      "A Day in Kagoshima Prefecture at the Ibusuki Sand Onsen [Ft. Sharmander & OkanoTV]\n",
      "Exploring a Hidden Night Spot in Tokyo, Japan\n",
      "YouTubers Pick Their Favorite Tourist Spots in Tokyo, Japan [Ft. The Anime Man]\n",
      "Visiting a Famous Ice Cream Shop in Japan with 140 Flavors [Journey Across Japan Spinoff]\n",
      "Tokyo Creative 1 Year Anniversary [Ft. Abroad in Japan, Tokidoki Traveller, Kim Dao and more...]\n",
      "5 Tips for Finding an Apartment in Japan\n",
      "Emma Joins Journey Across Japan! | Live Q&A (Feat. Abroad in Japan)\n",
      "Explore a Japanese Countryside Festival with Sharla in Japan!  [Journey Across Japan Spinoff]\n",
      "Can you guess these famous Japanese characters? [Ft. The Anime Man]\n",
      "Foreign YouTuber Battle: Whose Japanese is Better?\n",
      "Abroad in Japan's Journey Across Japan [Leg 2 - Behind the Scenes]\n",
      "5 Things to Do in Hiroshima, Japan with Emma [Tokidoki Traveller]\n",
      "Special Halloween LIVE Q&A With Abroad in Japan and Sharla in Japan\n",
      "Can You Guess These Common Japanese Words & Products?\n",
      "Abroad in Japan's Journey Across Japan [Leg 1 - Behind the Scenes]\n",
      "Abroad in Japan Live Q&A | Featuring Pete Donaldson | Journey Across Japan\n",
      "Halloween in Japan 2018 - With An Unexpected Twist [Ft. LeSweetPea]\n",
      "The Weirdest Japanese Beauty Products You Have Ever Seen! Do they Really Work?\n",
      "Abroad in Japan Talks LIVE About his 2,000km Bicycle Journey Across Japan with Joey The Anime Man\n",
      "Halloween in Tokyo! What Trick or Treats to Expect!\n",
      "A Little America in Japan? [Tour of American Yokota Air Base in Fussa, Tokyo]\n",
      "7 English Sounding Japanese Words That You Never Knew!\n",
      "Japanese Snacks VS American USA Snacks, Which Country Has The Best!?\n",
      "7 Hand Gestures You Need to Learn before Coming to Japan!\n",
      "Solving the Hardest Ancient Japanese Puzzle Box! [Ft. OkanoTV]\n",
      "Do you Know These Famous Japanese Anime Characters and Icons?\n",
      "Who Knows More About Japan and Japanese Culture? (Ft. OkanoTV)\n",
      "Japanese Things you 'Probably' Need to Know Before Coming to Japan!\n",
      "Massive Japan 100 Yen Haul with a Japanese Twist!\n",
      "7 Reasons Why Japanese Convenience Stores Are Popular\n",
      "7 Japanese Words That Can't Be Directly Translated Into English\n",
      "How Much Do They Know About Anime? [Ft. Abroad in Japan & The Anime Man]\n",
      "A Locals Guide to Asakusa in Tokyo, Japan [Ft. Tokyo Lens]\n",
      "Tokyo Creative Play Livestream [Ft. Abroad in Japan, The Anime Man, Tokidoki Traveller]\n",
      "Asian Beauty Gurus Do Emma's Makeup! [Ft.  Kim Dao and Sunnydahye]\n",
      "Which is Better? Japanese Wagyu or Sushi? [Ft. Abroad in Japan]\n",
      "How to take pictures like an Instagram model in Japan [Ft. sunnydahye & Kim Dao]\n",
      "DIY Harajuku Giant Cotton Candy Maker! [Ft. PDRさん & Mimei]\n",
      "Natsuki teaches us Japanese pick up lines! [Ft. Abroad in Japan]\n",
      "DIY Flowing Japanese Bamboo Noodle Kids Toy (Nagashi Somen) [Ft. PDRさん & Mimei]\n",
      "Natsuki vs OkanoTV - Japanese Pachinko Slot Machines  [Ft. Abroad in Japan]\n",
      "Learning How To Make Flower Sushi Rolls in Tokyo\n",
      "Taste Testing 5 Japanese Foods That Foreigners Usually Dislike!\n",
      "Drinking Coca Cola Clear for the First time! [Ft. Abroad in Japan]\n",
      "Please don't come back to Japan...Logan Paul [The Ultimate Haiku Contest Ft. Dogen]\n",
      "Cheap vs Expensive: Japanese Food Taste Test [Ft. Abroad in Japan]\n",
      "Advanced Japanese Lesson #0.5: Bad Dad Jokes / 上級日本語：レッスン 0.5「非常に最悪の親父ギャグ」\n",
      "Taste Testing Japanese Traditional Sweets with Abroad in Japan\n",
      "The Great Teacher Natsuki [EP 1: The Introduction] + ABROAD IN JAPAN's \"Natsuki the Movie\" Trailer!\n",
      "Making HUGE Takoyaki (Octopus Balls) in the Tokyo Creative Office! [Feat. Abroad in Japan]\n",
      "Welcome to Tokyo Creative Play!\n",
      "DIY Conveyor Belt Sushi Set For Kids [Feat.The Anime Man & Abroad in Japan]\n",
      "Japanese 100 yen DIY Earrings of Abroad in Japan and OkanoTV!\n",
      "Foreign YouTubers Taste Test Japanese Restaurant Kids Meals For The First Time [Ft. Abroad in Japan]\n",
      "Japanese 100 yen Store Fashion Challenge [Feat. The Anime Man & Abroad in Japan]\n",
      "Taste Testing Japanese Alcohol (Sake) with Natsuki from Abroad in Japan\n",
      "Non-Beauty Vlogger Does Beauty Vlogger's Makeup Ft. Kim Dao\n",
      "Which Foreign (Australian) YouTuber knows more about Japan? Ft. Kim Dao\n",
      "Making Tiny Japanese Snacks with Natsuki from Abroad in Japan\n",
      "Foreign YouTubers Try Japanese McDonalds Happy Meal For The First Time\n",
      "Japanese Convenience Store Haul Taste Test [7 ELEVEN, 7/11]\n",
      "Tokyo Creative 2017 Launch Showreel\n"
     ]
    }
   ],
   "source": [
    "for video in videos:\n",
    "    print(video['snippet']['title'])"
   ]
  },
  {
   "cell_type": "code",
   "execution_count": null,
   "metadata": {},
   "outputs": [],
   "source": []
  }
 ],
 "metadata": {
  "kernelspec": {
   "display_name": "Python 3",
   "language": "python",
   "name": "python3"
  },
  "language_info": {
   "codemirror_mode": {
    "name": "ipython",
    "version": 3
   },
   "file_extension": ".py",
   "mimetype": "text/x-python",
   "name": "python",
   "nbconvert_exporter": "python",
   "pygments_lexer": "ipython3",
   "version": "3.6.8"
  },
  "toc": {
   "base_numbering": 1,
   "nav_menu": {},
   "number_sections": true,
   "sideBar": true,
   "skip_h1_title": false,
   "title_cell": "Table of Contents",
   "title_sidebar": "Contents",
   "toc_cell": false,
   "toc_position": {},
   "toc_section_display": true,
   "toc_window_display": false
  }
 },
 "nbformat": 4,
 "nbformat_minor": 2
}
