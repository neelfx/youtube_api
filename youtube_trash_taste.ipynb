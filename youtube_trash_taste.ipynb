{
 "cells": [
  {
   "cell_type": "code",
   "execution_count": 1,
   "metadata": {
    "ExecuteTime": {
     "end_time": "2021-03-07T21:57:56.832154Z",
     "start_time": "2021-03-07T21:57:55.855142Z"
    }
   },
   "outputs": [],
   "source": [
    "from googleapiclient.discovery import build"
   ]
  },
  {
   "cell_type": "code",
   "execution_count": 2,
   "metadata": {
    "ExecuteTime": {
     "end_time": "2021-03-07T21:57:56.845142Z",
     "start_time": "2021-03-07T21:57:56.842141Z"
    }
   },
   "outputs": [],
   "source": [
    "#api key for initial test, will be not active when committed to github\n",
    "api_key = ''"
   ]
  },
  {
   "cell_type": "code",
   "execution_count": 3,
   "metadata": {
    "ExecuteTime": {
     "end_time": "2021-03-07T21:57:56.894154Z",
     "start_time": "2021-03-07T21:57:56.848139Z"
    }
   },
   "outputs": [],
   "source": [
    "youtube = build('youtube', 'v3', developerKey=api_key)\n",
    "\n",
    "request = youtube.channels().list(part='statistics', id='UCcmxOGYGF51T1XsqQLewGtQ')"
   ]
  },
  {
   "cell_type": "code",
   "execution_count": 4,
   "metadata": {
    "ExecuteTime": {
     "end_time": "2021-03-07T21:57:57.771154Z",
     "start_time": "2021-03-07T21:57:56.986156Z"
    }
   },
   "outputs": [],
   "source": [
    "response= request.execute()"
   ]
  },
  {
   "cell_type": "code",
   "execution_count": 5,
   "metadata": {
    "ExecuteTime": {
     "end_time": "2021-03-07T21:57:57.817142Z",
     "start_time": "2021-03-07T21:57:57.773139Z"
    }
   },
   "outputs": [
    {
     "name": "stdout",
     "output_type": "stream",
     "text": [
      "{'kind': 'youtube#channelListResponse', 'etag': 'sSxGRbOtOTGjMGSCdu9U4PElXRQ', 'pageInfo': {'totalResults': 1, 'resultsPerPage': 5}, 'items': [{'kind': 'youtube#channel', 'etag': 'PTsF29ZIoSVNthEWKWUIrQGd6KY', 'id': 'UCcmxOGYGF51T1XsqQLewGtQ', 'statistics': {'viewCount': '56907825', 'subscriberCount': '836000', 'hiddenSubscriberCount': False, 'videoCount': '41'}}]}\n"
     ]
    }
   ],
   "source": [
    "print(response)"
   ]
  },
  {
   "cell_type": "code",
   "execution_count": null,
   "metadata": {},
   "outputs": [],
   "source": []
  }
 ],
 "metadata": {
  "kernelspec": {
   "display_name": "Python 3",
   "language": "python",
   "name": "python3"
  },
  "language_info": {
   "codemirror_mode": {
    "name": "ipython",
    "version": 3
   },
   "file_extension": ".py",
   "mimetype": "text/x-python",
   "name": "python",
   "nbconvert_exporter": "python",
   "pygments_lexer": "ipython3",
   "version": "3.6.8"
  },
  "toc": {
   "base_numbering": 1,
   "nav_menu": {},
   "number_sections": true,
   "sideBar": true,
   "skip_h1_title": false,
   "title_cell": "Table of Contents",
   "title_sidebar": "Contents",
   "toc_cell": false,
   "toc_position": {},
   "toc_section_display": true,
   "toc_window_display": false
  }
 },
 "nbformat": 4,
 "nbformat_minor": 2
}
