{
 "cells": [
  {
   "cell_type": "code",
   "execution_count": 1,
   "metadata": {
    "ExecuteTime": {
     "end_time": "2021-03-07T21:57:32.087941Z",
     "start_time": "2021-03-07T21:57:30.763944Z"
    }
   },
   "outputs": [],
   "source": [
    "from googleapiclient.discovery import build"
   ]
  },
  {
   "cell_type": "code",
   "execution_count": 2,
   "metadata": {
    "ExecuteTime": {
     "end_time": "2021-03-07T21:57:32.125947Z",
     "start_time": "2021-03-07T21:57:32.098941Z"
    }
   },
   "outputs": [],
   "source": [
    "#api key for initial test, will be not active when committed to github\n",
    "api_key = ''"
   ]
  },
  {
   "cell_type": "code",
   "execution_count": 3,
   "metadata": {
    "ExecuteTime": {
     "end_time": "2021-03-07T21:57:32.218944Z",
     "start_time": "2021-03-07T21:57:32.132945Z"
    }
   },
   "outputs": [],
   "source": [
    "youtube = build('youtube', 'v3', developerKey=api_key)\n",
    "\n",
    "request = youtube.channels().list(part='statistics', id='UCry1ZVKLslbZXuQgsf-3TXg')"
   ]
  },
  {
   "cell_type": "code",
   "execution_count": 4,
   "metadata": {
    "ExecuteTime": {
     "end_time": "2021-03-07T21:57:34.318051Z",
     "start_time": "2021-03-07T21:57:32.235949Z"
    }
   },
   "outputs": [],
   "source": [
    "response= request.execute()"
   ]
  },
  {
   "cell_type": "code",
   "execution_count": 5,
   "metadata": {
    "ExecuteTime": {
     "end_time": "2021-03-07T21:57:34.407043Z",
     "start_time": "2021-03-07T21:57:34.328015Z"
    }
   },
   "outputs": [
    {
     "name": "stdout",
     "output_type": "stream",
     "text": [
      "{'kind': 'youtube#channelListResponse', 'etag': '4G9SNBSNbD1_e0Nkmzr3ygS7eI4', 'pageInfo': {'totalResults': 1, 'resultsPerPage': 5}, 'items': [{'kind': 'youtube#channel', 'etag': 'DlFfuMZICd14x7tESmcW492EZm4', 'id': 'UCry1ZVKLslbZXuQgsf-3TXg', 'statistics': {'viewCount': '91364776', 'subscriberCount': '407000', 'hiddenSubscriberCount': False, 'videoCount': '592'}}]}\n"
     ]
    }
   ],
   "source": [
    "print(response)"
   ]
  },
  {
   "cell_type": "code",
   "execution_count": null,
   "metadata": {},
   "outputs": [],
   "source": []
  }
 ],
 "metadata": {
  "kernelspec": {
   "display_name": "Python 3",
   "language": "python",
   "name": "python3"
  },
  "language_info": {
   "codemirror_mode": {
    "name": "ipython",
    "version": 3
   },
   "file_extension": ".py",
   "mimetype": "text/x-python",
   "name": "python",
   "nbconvert_exporter": "python",
   "pygments_lexer": "ipython3",
   "version": "3.6.8"
  },
  "toc": {
   "base_numbering": 1,
   "nav_menu": {},
   "number_sections": true,
   "sideBar": true,
   "skip_h1_title": false,
   "title_cell": "Table of Contents",
   "title_sidebar": "Contents",
   "toc_cell": false,
   "toc_position": {},
   "toc_section_display": true,
   "toc_window_display": false
  }
 },
 "nbformat": 4,
 "nbformat_minor": 2
}
